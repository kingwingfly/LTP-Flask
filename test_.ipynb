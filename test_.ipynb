{
 "cells": [
  {
   "cell_type": "code",
   "execution_count": 1,
   "metadata": {},
   "outputs": [
    {
     "data": {
      "text/plain": [
       "'C:\\\\Users\\\\83625\\\\.cache\\\\huggingface\\\\hub'"
      ]
     },
     "execution_count": 1,
     "metadata": {},
     "output_type": "execute_result"
    }
   ],
   "source": [
    "import os\n",
    "default_home = os.path.join(os.path.expanduser(\"~\"), \".cache\")\n",
    "\n",
    "hf_cache_home = os.path.expanduser(\n",
    "    os.getenv(\n",
    "        \"HF_HOME\",\n",
    "        os.path.join(os.getenv(\"XDG_CACHE_HOME\", default_home), \"huggingface\"),\n",
    "    )\n",
    ")\n",
    "default_cache_path = os.path.join(hf_cache_home, \"hub\")\n",
    "\n",
    "os.getenv(\"HUGGINGFACE_HUB_CACHE\", default_cache_path)"
   ]
  },
  {
   "cell_type": "code",
   "execution_count": 5,
   "metadata": {},
   "outputs": [
    {
     "name": "stdout",
     "output_type": "stream",
     "text": [
      "['Sat', 'Nov', '19', '17:42:42', '2022']\n"
     ]
    }
   ],
   "source": [
    "from time import asctime\n",
    "asctime_now = asctime().split(' ')\n",
    "print(asctime_now)\n"
   ]
  }
 ],
 "metadata": {
  "kernelspec": {
   "display_name": "Python 3.10.6 ('NLP310')",
   "language": "python",
   "name": "python3"
  },
  "language_info": {
   "codemirror_mode": {
    "name": "ipython",
    "version": 3
   },
   "file_extension": ".py",
   "mimetype": "text/x-python",
   "name": "python",
   "nbconvert_exporter": "python",
   "pygments_lexer": "ipython3",
   "version": "3.10.6"
  },
  "orig_nbformat": 4,
  "vscode": {
   "interpreter": {
    "hash": "fdde473a360cbf3162dfb95c1bf2adbbf89aa5ed840b792246c3f72871cd146a"
   }
  }
 },
 "nbformat": 4,
 "nbformat_minor": 2
}
